{
 "cells": [
  {
   "cell_type": "code",
   "execution_count": 2,
   "metadata": {},
   "outputs": [],
   "source": [
    "\"\"\"\n",
    "class datetime.datetime(year, month, day, hour=0, minute=0, second=0, microsecond=0, tzinfo=None, *, fold=0)\n",
    "\n",
    "    The year, month and day arguments are required. tzinfo may be None, or an instance of a tzinfo subclass. The remaining arguments must be integers in the following ranges:\n",
    "\n",
    "        MINYEAR (1) <= year <= MAXYEAR(9999),\n",
    "        1 <= month <= 12,\n",
    "        1 <= day <= number of days in the given month and year,\n",
    "        0 <= hour < 24,\n",
    "        0 <= minute < 60,\n",
    "        0 <= second < 60,\n",
    "        0 <= microsecond < 1_000_000,\n",
    "        fold in [0, 1].\n",
    "\n",
    "\n",
    "datetime.tzinfo\n",
    "\n",
    "    The object passed as the tzinfo argument to the datetime constructor, or None if none was passed.\n",
    "\n",
    "datetime.fold\n",
    "\n",
    "    In [0, 1]. Used to disambiguate wall times during a repeated interval. (A repeated interval occurs when clocks are rolled back at the end of daylight saving time or when the UTC offset for the current zone is decreased for political reasons.) The value 0 (1) represents the earlier (later) of the two moments with the same wall time representation.\n",
    "\n",
    "    New in version 3.6.\n",
    " \n",
    "\"\"\"\n",
    "None"
   ]
  },
  {
   "cell_type": "markdown",
   "metadata": {},
   "source": [
    "#### Dateobjecs and properties"
   ]
  },
  {
   "cell_type": "code",
   "execution_count": 3,
   "metadata": {},
   "outputs": [
    {
     "name": "stdout",
     "output_type": "stream",
     "text": [
      "2021-11-01 05:20:33.002344\n",
      "dt_object.year = 2021\n",
      "dt_object.month = 11\n",
      "dt_object.day = 1\n",
      "dt_object.hour = 5\n",
      "dt_object.minute = 20\n",
      "dt_object.second = 33\n",
      "dt_object.microsecond = 2344\n"
     ]
    }
   ],
   "source": [
    "\"Properties of datetime object\"\n",
    "\n",
    "from datetime import datetime\n",
    "\n",
    "dt_object = datetime(year=2021,month=11,day=1,hour=5,minute=20,second=33,microsecond = 2344)\n",
    "\n",
    "print(dt_object)\n",
    "\n",
    "print(f'{dt_object.year = }')\n",
    "print(f'{dt_object.month = }')\n",
    "print(f'{dt_object.day = }')\n",
    "print(f'{dt_object.hour = }')\n",
    "print(f'{dt_object.minute = }')\n",
    "print(f'{dt_object.second = }')\n",
    "print(f'{dt_object.microsecond = }')"
   ]
  },
  {
   "cell_type": "code",
   "execution_count": 4,
   "metadata": {},
   "outputs": [
    {
     "name": "stdout",
     "output_type": "stream",
     "text": [
      "2021-11-01 05:20:33.002344\n",
      "2021-11-01\n",
      "Monday\n",
      "0\n",
      "1\n"
     ]
    }
   ],
   "source": [
    "\"Important methods of getting weekdays \"\n",
    "\"isoweekday Monday = 1 , Sunday = 7\"\n",
    "\"weekday Monday = 0, Sunday = 6\"\n",
    "\n",
    "print(dt_object)\n",
    "print(f'{dt_object.date()}')\n",
    "\n",
    "print(f'{dt_object:%A}')\n",
    "\n",
    "print(f'{dt_object.weekday()}')\n",
    "print(f'{dt_object.isoweekday()}')"
   ]
  },
  {
   "cell_type": "markdown",
   "metadata": {},
   "source": [
    "## Important functions of datetime.datetime"
   ]
  },
  {
   "cell_type": "code",
   "execution_count": 5,
   "metadata": {},
   "outputs": [
    {
     "name": "stdout",
     "output_type": "stream",
     "text": [
      "now: 2021-12-25 19:55:16.086129\n",
      "utcnow: 2021-12-25 14:25:16.086168\n",
      "today: 2021-12-25 19:55:16.086194\n",
      "5:29:59.999999\n"
     ]
    }
   ],
   "source": [
    "from datetime import date,time,datetime\n",
    "\n",
    "print('now:',datetime.now())\n",
    "print('utcnow:',datetime.utcnow())\n",
    "print('today:',datetime.today())\n",
    "\n",
    "dt = datetime.today() - datetime.utcnow()\n",
    "print(dt)\n"
   ]
  },
  {
   "cell_type": "markdown",
   "metadata": {},
   "source": [
    "## Timedelta"
   ]
  },
  {
   "cell_type": "code",
   "execution_count": 7,
   "metadata": {},
   "outputs": [
    {
     "name": "stdout",
     "output_type": "stream",
     "text": [
      "datetime.timedelta(days=57, seconds=29156, microseconds=10)\n",
      "-------------------\n",
      "57 days, 8:05:56.000010\n",
      "4953956.00001\n"
     ]
    }
   ],
   "source": [
    "from datetime import timedelta\n",
    "delta = timedelta(days=50,hours=8,weeks=1,minutes=5,seconds=27,microseconds=10,milliseconds=29000,)\n",
    "print(repr(delta))\n",
    "print('-------------------')\n",
    "print(str(delta))\n",
    "print(delta.total_seconds())"
   ]
  },
  {
   "cell_type": "code",
   "execution_count": null,
   "metadata": {},
   "outputs": [
    {
     "name": "stdout",
     "output_type": "stream",
     "text": [
      "2021-11-25\n",
      "19:53:21.008089\n",
      "2021-11-25 19:53:21.008089\n"
     ]
    }
   ],
   "source": [
    "\"datetime.combine() function combines the instances of datetime.date and datetime.time\"\n",
    "\n",
    "current_date = date.today();   print(current_date)\n",
    "now = datetime.today()\n",
    "curr_time = time(now.hour,now.minute,now.second,now.microsecond)\n",
    "print(curr_time)\n",
    "\n",
    "combine_time = datetime.combine(current_date,curr_time)\n",
    "print(combine_time)"
   ]
  },
  {
   "cell_type": "markdown",
   "metadata": {},
   "source": [
    "## Calculation of datetime"
   ]
  },
  {
   "cell_type": "code",
   "execution_count": null,
   "metadata": {},
   "outputs": [
    {
     "name": "stdout",
     "output_type": "stream",
     "text": [
      "10:00:00\n",
      "datetime.timedelta(seconds=36000)\n",
      "<class 'datetime.timedelta'>\n"
     ]
    }
   ],
   "source": [
    "dt  = datetime(2020,1,1,0)\n",
    "str(dt)\n",
    "\n",
    "dtplus_10 = datetime(2020,1,1,10)\n",
    "\n",
    "diff = dtplus_10 - dt\n",
    "print(diff)\n",
    "print(repr(diff))\n",
    "print(type(diff))"
   ]
  },
  {
   "cell_type": "code",
   "execution_count": null,
   "metadata": {},
   "outputs": [
    {
     "name": "stdout",
     "output_type": "stream",
     "text": [
      "2020-01-01 00:00:00\n",
      "2020-01-03 02:00:00\n"
     ]
    }
   ],
   "source": [
    "from datetime import timedelta\n",
    "dim = timedelta(hours=2,days=2)\n",
    "str(dim)\n",
    "print(dt)\n",
    "\n",
    "print(dt + dim)"
   ]
  }
 ],
 "metadata": {
  "interpreter": {
   "hash": "dea6d25d6f8dc36c987e06b7c775d272c4cf7e72ceda22d65902e3211296ca71"
  },
  "kernelspec": {
   "display_name": "Python 3.10.0 64-bit",
   "language": "python",
   "name": "python3"
  },
  "language_info": {
   "codemirror_mode": {
    "name": "ipython",
    "version": 3
   },
   "file_extension": ".py",
   "mimetype": "text/x-python",
   "name": "python",
   "nbconvert_exporter": "python",
   "pygments_lexer": "ipython3",
   "version": "3.10.0"
  },
  "orig_nbformat": 4
 },
 "nbformat": 4,
 "nbformat_minor": 2
}
